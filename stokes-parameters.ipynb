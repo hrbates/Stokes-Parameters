{
 "cells": [
  {
   "cell_type": "markdown",
   "metadata": {},
   "source": [
    "The purpose of this notebook is to calculate the Stokes Parameters and demonstrate the polarization in terms of the components of linearly or circularly polarized unit vectors."
   ]
  },
  {
   "cell_type": "markdown",
   "metadata": {},
   "source": [
    "First, we import the necessary files:"
   ]
  },
  {
   "cell_type": "code",
   "execution_count": null,
   "metadata": {},
   "outputs": [],
   "source": [
    "import matplotlib.pyplot as plt\n",
    "import numpy as np"
   ]
  },
  {
   "cell_type": "markdown",
   "metadata": {},
   "source": [
    "# Theory: From Electric Field to Stokes Parameters\n",
    "The electric field vector of a wave is given by: <br> <br>\n",
    "$$ \\mathbf{E} = (\\mathbf{\\hat{x}} E_1 + \\mathbf{\\hat{y}} E_2)e^{-i \\omega t} = \\mathbf{E_0} e^{-i \\omega t} $$ <br>\n",
    "The complex amplitudes $ {E_1} $ and $ {E_2} $ can be expressed by: <br> <br>\n",
    "$$ E_1 = \\mathcal{E_1} e^{i \\phi_1} $$  $$ E_2 = \\mathcal{E_2} e^{i \\phi_2} $$ <br>\n",
    "Taking the real parts, the x and y components are: <br> <br>\n",
    "$$ E_x = \\mathcal{E_1} \\cos{(\\omega t - \\phi_1)} $$  $$ E_y = \\mathcal{E_2} \\cos{(\\omega t - \\phi_2)} $$ <br> \n",
    "For a general ellipse (with major/minor axes tilted at an angle $\\chi$ with respect to the x and y axes), the components become: <br> <br>\n",
    "$$ E_x = \\mathcal{E_0} (\\cos{\\beta}\\cos{\\chi}\\cos{\\omega t} + \\sin{\\beta}\\sin{\\chi}\\sin{\\omega t}) $$  $$ E_y = \\mathcal{E_0} (\\cos{\\beta}\\sin{\\chi}\\cos{\\omega t} - \\sin{\\beta}\\cos{\\chi}\\sin{\\omega t}) $$ <br>\n",
    "In the equations for the different components, $ -\\frac{\\pi}{2} \\leq \\beta \\leq \\frac{\\pi}{2} $ . <br> <br>\n",
    "Comparing the two equations for $ E_x $ and $ E_y $ , we find: <br> <br>\n",
    "$$ \\mathcal{E_1}\\cos{\\phi_1} = \\mathcal{E_0}\\cos{\\beta}\\cos{\\chi} $$  $$ \\mathcal{E_1}\\sin{\\phi_1} = \\mathcal{E_0}\\sin{\\beta}\\sin{\\chi} $$  $$ \\mathcal{E_2}\\cos{\\phi_2} = \\mathcal{E_0}\\cos{\\beta}\\sin{\\chi} $$  $$ \\mathcal{E_2}\\sin{\\phi_2} = -\\mathcal{E_0}\\sin{\\beta}\\cos{\\chi} $$ <br>\n",
    "The Stokes Parameters for monochromatic waves are defined as: <br> <br>\n",
    "$$ I \\equiv \\mathcal{E_1}^{2} + \\mathcal{E_2}^{2} = \\mathcal{E_0}^{2} $$  $$ Q \\equiv \\mathcal{E_1}^{2} - \\mathcal{E_2}^{2} = \\mathcal{E_0}^{2}\\cos{2 \\beta}\\cos{2 \\chi} $$  $$ U \\equiv 2\\mathcal{E_1}\\mathcal{E_2}\\cos{(\\phi_1 - \\phi_2)} = \\mathcal{E_0}^{2}\\cos{2 \\beta}\\sin{2 \\chi} $$  $$ V \\equiv 2\\mathcal{E_1}\\mathcal{E_2}\\sin{(\\phi_1 - \\phi_2)} = \\mathcal{E_0}^{2}\\sin{2 \\beta} $$ <br>\n",
    "So, given $ \\mathcal{E_0} $, the tilt angle ($ \\chi $), and $ \\beta $, it is possible to determine $ \\mathcal{E_1} $, $ \\phi_1 $, $ \\mathcal{E_2} $, $ \\phi_2 $ (which are necessary to determine the electric field vector $ \\mathbf{E} $), and all of the Stokes Parameters ($ I $, $ Q $, $ U $, $ V $)."
   ]
  },
  {
   "cell_type": "markdown",
   "metadata": {},
   "source": [
    "# Example\n",
    "We want to find the Stokes Parameters and see the polarization in terms of the linearly and circularly polarized unit vectors. First, we must define the necessary parameters: $ \\mathcal{E_0} $, $ \\chi $, and $ \\beta $:"
   ]
  },
  {
   "cell_type": "code",
   "execution_count": null,
   "metadata": {},
   "outputs": [],
   "source": []
  },
  {
   "cell_type": "markdown",
   "metadata": {},
   "source": [
    "## Stokes Parameters\n",
    "From $ \\mathcal{E_0} $, $ \\chi $, and $ \\beta$ we can calculate all of the Stokes Parameters ($ I $, $ Q $, $ U $, $ V $):"
   ]
  },
  {
   "cell_type": "code",
   "execution_count": null,
   "metadata": {},
   "outputs": [],
   "source": []
  },
  {
   "cell_type": "markdown",
   "metadata": {},
   "source": [
    "## Visualization\n",
    "The total polarization can be viewed as a combination of two linearly polarized vectors or two circularly polarized vectors. We want to demonstrate this in movies for our given parameters $ \\mathcal{E_0} $, $ \\chi $, and $ \\beta $. <br> <br>\n",
    "First, we will consider two linearly polarized unit vectors."
   ]
  },
  {
   "cell_type": "code",
   "execution_count": null,
   "metadata": {},
   "outputs": [],
   "source": []
  },
  {
   "cell_type": "markdown",
   "metadata": {},
   "source": [
    "Try changing the parameters  $ \\mathcal{E_0} $, $ \\chi $, and $ \\beta $ to obtain new Stokes Parameters and animations. Special cases to particularly note: <br> <br>\n",
    "$$ \\beta = 0, \\frac{\\pi}{2}, -\\frac{\\pi}{2} \\Rightarrow \\mathbf{Linear\\: Polarization} $$ <br>\n",
    "$$ \\beta = \\frac{\\pi}{4} \\Rightarrow \\mathbf{Right\\!-\\!Handed\\: Circular\\: Polarization} $$ <br>\n",
    "$$ \\beta = -\\frac{\\pi}{4} \\Rightarrow \\mathbf{Left\\!-\\!Handed\\: Circular\\: Polarization} $$"
   ]
  },
  {
   "cell_type": "code",
   "execution_count": null,
   "metadata": {},
   "outputs": [],
   "source": []
  }
 ],
 "metadata": {
  "kernelspec": {
   "display_name": "Python 3",
   "language": "python",
   "name": "python3"
  },
  "language_info": {
   "codemirror_mode": {
    "name": "ipython",
    "version": 3
   },
   "file_extension": ".py",
   "mimetype": "text/x-python",
   "name": "python",
   "nbconvert_exporter": "python",
   "pygments_lexer": "ipython3",
   "version": "3.7.4"
  }
 },
 "nbformat": 4,
 "nbformat_minor": 2
}
